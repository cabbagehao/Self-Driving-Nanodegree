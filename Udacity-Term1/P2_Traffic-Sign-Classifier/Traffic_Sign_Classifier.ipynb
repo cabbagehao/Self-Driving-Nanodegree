{
 "cells": [
  {
   "cell_type": "markdown",
   "metadata": {},
   "source": [
    "# Self-Driving Car Engineer Nanodegree\n",
    "\n",
    "## Deep Learning\n",
    "\n",
    "## Project: Build a Traffic Sign Recognition Classifier\n",
    "\n",
    "In this notebook, a template is provided for you to implement your functionality in stages, which is required to successfully complete this project. If additional code is required that cannot be included in the notebook, be sure that the Python code is successfully imported and included in your submission if necessary. \n",
    "\n",
    "> **Note**: Once you have completed all of the code implementations, you need to finalize your work by exporting the iPython Notebook as an HTML document. Before exporting the notebook to html, all of the code cells need to have been run so that reviewers can see the final implementation and output. You can then export the notebook by using the menu above and navigating to  \\n\",\n",
    "    \"**File -> Download as -> HTML (.html)**. Include the finished document along with this notebook as your submission. \n",
    "\n",
    "In addition to implementing code, there is a writeup to complete. The writeup should be completed in a separate file, which can be either a markdown file or a pdf document. There is a [write up template](https://github.com/udacity/CarND-Traffic-Sign-Classifier-Project/blob/master/writeup_template.md) that can be used to guide the writing process. Completing the code template and writeup template will cover all of the [rubric points](https://review.udacity.com/#!/rubrics/481/view) for this project.\n",
    "\n",
    "The [rubric](https://review.udacity.com/#!/rubrics/481/view) contains \"Stand Out Suggestions\" for enhancing the project beyond the minimum requirements. The stand out suggestions are optional. If you decide to pursue the \"stand out suggestions\", you can include the code in this Ipython notebook and also discuss the results in the writeup file.\n",
    "\n",
    "\n",
    ">**Note:** Code and Markdown cells can be executed using the **Shift + Enter** keyboard shortcut. In addition, Markdown cells can be edited by typically double-clicking the cell to enter edit mode."
   ]
  },
  {
   "cell_type": "markdown",
   "metadata": {},
   "source": [
    "---\n",
    "## Step 0: Load The Data"
   ]
  },
  {
   "cell_type": "code",
   "execution_count": 1,
   "metadata": {},
   "outputs": [
    {
     "name": "stdout",
     "output_type": "stream",
     "text": [
      "(34799, 32, 32, 3) (34799,)\n",
      "(4410, 32, 32, 3) (4410,)\n",
      "(12630, 32, 32, 3) (12630,)\n"
     ]
    }
   ],
   "source": [
    "# Load pickled data\n",
    "import pickle\n",
    "\n",
    "# TODO: Fill this in based on where you saved the training and testing data\n",
    "\n",
    "training_file = 'data/train.p'\n",
    "validation_file= 'data/valid.p'\n",
    "testing_file = 'data/test.p'\n",
    "\n",
    "with open(training_file, mode='rb') as f:\n",
    "    train = pickle.load(f)\n",
    "with open(validation_file, mode='rb') as f:\n",
    "    valid = pickle.load(f)\n",
    "with open(testing_file, mode='rb') as f:\n",
    "    test = pickle.load(f)\n",
    "    \n",
    "X_train, y_train = train['features'], train['labels']\n",
    "X_valid, y_valid = valid['features'], valid['labels']\n",
    "X_test, y_test = test['features'], test['labels']\n",
    "\n",
    "#test shape\n",
    "print(X_train.shape, y_train.shape)\n",
    "print(X_valid.shape, y_valid.shape)\n",
    "print(X_test.shape, y_test.shape)"
   ]
  },
  {
   "cell_type": "markdown",
   "metadata": {},
   "source": [
    "---\n",
    "\n",
    "## Step 1: Dataset Summary & Exploration\n",
    "\n",
    "The pickled data is a dictionary with 4 key/value pairs:\n",
    "\n",
    "- `'features'` is a 4D array containing raw pixel data of the traffic sign images, (num examples, width, height, channels).\n",
    "- `'labels'` is a 1D array containing the label/class id of the traffic sign. The file `signnames.csv` contains id -> name mappings for each id.\n",
    "- `'sizes'` is a list containing tuples, (width, height) representing the original width and height the image.\n",
    "- `'coords'` is a list containing tuples, (x1, y1, x2, y2) representing coordinates of a bounding box around the sign in the image. **THESE COORDINATES ASSUME THE ORIGINAL IMAGE. THE PICKLED DATA CONTAINS RESIZED VERSIONS (32 by 32) OF THESE IMAGES**\n",
    "\n",
    "Complete the basic data summary below. Use python, numpy and/or pandas methods to calculate the data summary rather than hard coding the results. For example, the [pandas shape method](http://pandas.pydata.org/pandas-docs/stable/generated/pandas.DataFrame.shape.html) might be useful for calculating some of the summary results. "
   ]
  },
  {
   "cell_type": "markdown",
   "metadata": {},
   "source": [
    "### Provide a Basic Summary of the Data Set Using Python, Numpy and/or Pandas"
   ]
  },
  {
   "cell_type": "code",
   "execution_count": 2,
   "metadata": {},
   "outputs": [
    {
     "name": "stdout",
     "output_type": "stream",
     "text": [
      "<class 'numpy.ndarray'> <class 'numpy.ndarray'> <class 'numpy.ndarray'>\n",
      "Number of training examples = 34799\n",
      "Number of testing examples = 12630\n",
      "Image data shape = (32, 32, 3)\n",
      "Number of classes = 43\n",
      "Classes count dict: [(2, 3000), (1, 2940), (13, 2880), (12, 2790), (38, 2760), (10, 2670), (4, 2640), (5, 2490), (25, 1980), (9, 1950), (7, 1890), (3, 1860), (8, 1860), (11, 1740), (18, 1590), (35, 1590), (17, 1470), (14, 1050), (31, 1050), (33, 899), (15, 840), (26, 780), (28, 690), (23, 660), (30, 600), (6, 570), (16, 570), (34, 540), (22, 510), (36, 510), (20, 450), (40, 450), (21, 420), (39, 390), (24, 360), (29, 360), (42, 330), (27, 300), (32, 300), (41, 300), (0, 270), (19, 270), (37, 270)]\n"
     ]
    }
   ],
   "source": [
    "### Replace each question mark with the appropriate value. \n",
    "### Use python, pandas or numpy methods rather than hard coding the results\n",
    "\n",
    "# TODO: Number of training examples\n",
    "n_train = X_train.shape[0]\n",
    "\n",
    "# TODO: Number of validation examples\n",
    "n_validation = X_valid.shape[0]\n",
    "\n",
    "# TODO: Number of testing examples.\n",
    "n_test = X_test.shape[0]\n",
    "\n",
    "# TODO: What's the shape of an traffic sign image?\n",
    "#image_shape = train['sizes'][0]                                       ## Q1:output is [26,25] ?\n",
    "image_shape = X_train[0].shape\n",
    "# TODO: How many unique classes/labels there are in the dataset.\n",
    "import numpy as np\n",
    "n_classes = len(np.unique(y_valid))\n",
    "print(type(y_valid),type(y_train),type(y_test))\n",
    "classes_count_dict = dict(zip(*np.unique(np.append(np.append(y_valid, y_train), y_test), return_counts=True)))\n",
    "sort_classes_dict = sorted(classes_count_dict.items(), key = lambda item:item[1], reverse=True)\n",
    "print(\"Number of training examples =\", n_train)\n",
    "print(\"Number of testing examples =\", n_test)\n",
    "print(\"Image data shape =\", image_shape)\n",
    "print(\"Number of classes =\", n_classes)\n",
    "print(\"Classes count dict:\", sort_classes_dict)\n"
   ]
  },
  {
   "cell_type": "code",
   "execution_count": 3,
   "metadata": {},
   "outputs": [
    {
     "data": {
      "image/png": "[encoded data removed]",
      "text/plain": [
       "<matplotlib.figure.Figure at 0x7fbe3440a710>"
      ]
     },
     "metadata": {},
     "output_type": "display_data"
    }
   ],
   "source": [
    "import matplotlib.pyplot as plt\n",
    "import numpy as np\n",
    "#import pandas as pd\n",
    "\n",
    "f1 = plt.figure(2)  \n",
    "\n",
    "plt.ylabel('count in the all data')\n",
    "plt.xlabel('traffic sign numbers')\n",
    "# 调用apply处理后转为list对象，用来画直方图\n",
    "plt.hist(np.append(np.append(y_valid, y_train), y_test), bins=43) \n",
    "plt.show() "
   ]
  },
  {
   "cell_type": "markdown",
   "metadata": {},
   "source": [
    "### Include an exploratory visualization of the dataset"
   ]
  },
  {
   "cell_type": "markdown",
   "metadata": {},
   "source": [
    "Visualize the German Traffic Signs Dataset using the pickled file(s). This is open ended, suggestions include: plotting traffic sign images, plotting the count of each sign, etc. \n",
    "\n",
    "The [Matplotlib](http://matplotlib.org/) [examples](http://matplotlib.org/examples/index.html) and [gallery](http://matplotlib.org/gallery.html) pages are a great resource for doing visualizations in Python.\n",
    "\n",
    "**NOTE:** It's recommended you start with something simple first. If you wish to do more, come back to it after you've completed the rest of the sections. It can be interesting to look at the distribution of classes in the training, validation and test set. Is the distribution the same? Are there more examples of some classes than others?"
   ]
  },
  {
   "cell_type": "code",
   "execution_count": 4,
   "metadata": {
    "scrolled": false
   },
   "outputs": [
    {
     "name": "stdout",
     "output_type": "stream",
     "text": [
      "41\n"
     ]
    },
    {
     "data": {
      "image/png": "[encoded data removed]",
      "text/plain": [
       "<matplotlib.figure.Figure at 0x7fbdf962bf98>"
      ]
     },
     "metadata": {},
     "output_type": "display_data"
    }
   ],
   "source": [
    "### Data exploration visualization code goes here.\n",
    "### Feel free to use as many code cells as needed.\n",
    "import matplotlib.pyplot as plt\n",
    "# Visualizations will be shown in the notebook.\n",
    "%matplotlib inline\n",
    "\n",
    "\n",
    "num = 1\n",
    "image = X_train[num]\n",
    "plt.figure(figsize=(1,1))\n",
    "plt.imshow(image)\n",
    "print(y_train[num])\n",
    "        \n"
   ]
  },
  {
   "cell_type": "markdown",
   "metadata": {},
   "source": [
    "----\n",
    "\n",
    "## Step 2: Design and Test a Model Architecture\n",
    "\n",
    "Design and implement a deep learning model that learns to recognize traffic signs. Train and test your model on the [German Traffic Sign Dataset](http://benchmark.ini.rub.de/?section=gtsrb&subsection=dataset).\n",
    "\n",
    "The LeNet-5 implementation shown in the [classroom](https://classroom.udacity.com/nanodegrees/nd013/parts/fbf77062-5703-404e-b60c-95b78b2f3f9e/modules/6df7ae49-c61c-4bb2-a23e-6527e69209ec/lessons/601ae704-1035-4287-8b11-e2c2716217ad/concepts/d4aca031-508f-4e0b-b493-e7b706120f81) at the end of the CNN lesson is a solid starting point. You'll have to change the number of classes and possibly the preprocessing, but aside from that it's plug and play! \n",
    "\n",
    "With the LeNet-5 solution from the lecture, you should expect a validation set accuracy of about 0.89. To meet specifications, the validation set accuracy will need to be at least 0.93. It is possible to get an even higher accuracy, but 0.93 is the minimum for a successful project submission. \n",
    "\n",
    "There are various aspects to consider when thinking about this problem:\n",
    "\n",
    "- Neural network architecture (is the network over or underfitting?)\n",
    "- Play around preprocessing techniques (normalization, rgb to grayscale, etc)\n",
    "- Number of examples per label (some have more than others).\n",
    "- Generate fake data.\n",
    "\n",
    "Here is an example of a [published baseline model on this problem](http://yann.lecun.com/exdb/publis/pdf/sermanet-ijcnn-11.pdf). It's not required to be familiar with the approach used in the paper but, it's good practice to try to read papers like these."
   ]
  },
  {
   "cell_type": "markdown",
   "metadata": {},
   "source": [
    "### Pre-process the Data Set (normalization, grayscale, etc.)"
   ]
  },
  {
   "cell_type": "markdown",
   "metadata": {},
   "source": [
    "Minimally, the image data should be normalized so that the data has mean zero and equal variance. For image data, `(pixel - 128)/ 128` is a quick way to approximately normalize the data and can be used in this project. \n",
    "\n",
    "Other pre-processing steps are optional. You can try different techniques to see if it improves performance. \n",
    "\n",
    "Use the code cell (or multiple code cells, if necessary) to implement the first step of your project."
   ]
  },
  {
   "cell_type": "code",
   "execution_count": 5,
   "metadata": {},
   "outputs": [
    {
     "name": "stdout",
     "output_type": "stream",
     "text": [
      "_pywrap_tensorflow_internal /home/cabbage/anaconda2/envs/tensorflow/lib/python3.5/site-packages/tensorflow/python/_pywrap_tensorflow_internal.so\n"
     ]
    }
   ],
   "source": [
    "### Preprocess the data here. It is required to normalize the data. Other preprocessing steps could include \n",
    "### converting to grayscale, etc.\n",
    "### Feel free to use as many code cells as needed.\n",
    "import tensorflow as tf\n",
    "from sklearn.utils import shuffle\n",
    "\n",
    "# EPOCHS = 100000  # 几千次后正确率就急剧下降,应该是训练次数多了严重过拟合.\n",
    "EPOCHS = 100\n",
    "BATCH_SIZE = 50\n",
    "dropout = 1\n",
    "\n",
    "sess = tf.InteractiveSession()"
   ]
  },
  {
   "cell_type": "code",
   "execution_count": 6,
   "metadata": {
    "collapsed": true
   },
   "outputs": [],
   "source": [
    "# helper functions\n",
    "def weight_variable(shape):\n",
    "    initial = tf.truncated_normal(shape, stddev=0.1)\n",
    "    return tf.Variable(initial)\n",
    "\n",
    "def bias_variable(shape):\n",
    "    initial = tf.constant(0.1, shape=shape)\n",
    "    return tf.Variable(initial)\n",
    "\n",
    "def conv2d(x, w):\n",
    "    return tf.nn.conv2d(x, w, strides=[1,1,1,1], padding=\"VALID\")\n",
    "\n",
    "def max_pool_2x2(x):\n",
    "    return tf.nn.max_pool(x, ksize=[1,2,2,1],\n",
    "                          strides=[1,2,2,1], padding='VALID')"
   ]
  },
  {
   "cell_type": "markdown",
   "metadata": {},
   "source": [
    "### Model Architecture"
   ]
  },
  {
   "cell_type": "code",
   "execution_count": 7,
   "metadata": {
    "collapsed": true
   },
   "outputs": [],
   "source": [
    "### Define your architecture here.\n",
    "### Feel free to use as many code cells as needed.\n",
    "from tensorflow.contrib.layers import flatten\n",
    "\n",
    "def LeNet(x):    \n",
    "    # Arguments used for tf.truncated_normal, randomly defines variables for the weights and biases for each layer\n",
    "    mu = 0\n",
    "    sigma = 0.1\n",
    "    \n",
    "    # TODO: Layer 1: Convolutional. Input = 32x32x3. Output = 28x28x6.\n",
    "    w_conv1 = weight_variable([5,5,3,6])\n",
    "    b_conv1 = bias_variable([6])\n",
    "    # TODO: Activation.\n",
    "    x_image = tf.reshape(x, [-1, 32,32,3])\n",
    "    #x_image = flatten(x)\n",
    "    h_conv1 = tf.nn.relu(conv2d(x_image, w_conv1) + b_conv1)\n",
    "    # TODO: Pooling. Input = 28x28x6. Output = 14x14x6.\n",
    "    h_pool1 = max_pool_2x2(h_conv1)\n",
    "    \n",
    "    #outputFeatureMap(x, w_conv1, activation_min=-1, activation_max=-1 ,plt_num=1) \n",
    "    \n",
    "    # TODO: Layer 2: Convolutional. Output = 10x10x16.\n",
    "    w_conv2 = weight_variable([5,5,6,16])\n",
    "    b_conv2 = bias_variable([16])\n",
    "    # TODO: Activation.\n",
    "    h_conv2 = tf.nn.relu(conv2d(h_pool1, w_conv2) + b_conv2)\n",
    "    # TODO: Pooling. Input = 10x10x16. Output = 5x5x16.\n",
    "    h_pool2 = max_pool_2x2(h_conv2)\n",
    "    # TODO: Flatten. Input = 5x5x16. Output = 400.\n",
    "    #h_pool2_flat = tf.reshape(h_pool2, [-1, 5*5*16])\n",
    "    h_pool2_flat = flatten(h_pool2)\n",
    "    # TODO: Layer 3: Fully Connected. Input = 400. Output = 120.\n",
    "    w_fc1 = weight_variable([5*5*16, 120])\n",
    "    b_fc1 = bias_variable([120])\n",
    "    # TODO: Activation.\n",
    "    h_fc1 = tf.nn.relu(tf.matmul(h_pool2_flat, w_fc1) + b_fc1)\n",
    "    h_fc1 = tf.nn.dropout(h_fc1, dropout)\n",
    "    # TODO: Layer 4: Fully Connected. Input = 120. Output = 84.\n",
    "    w_fc2 = weight_variable([120, 84])\n",
    "    b_fc2 = bias_variable([84])\n",
    "    # TODO: Activation.\n",
    "    h_fc2 = tf.nn.relu(tf.matmul(h_fc1, w_fc2) + b_fc2)\n",
    "    h_fc2 = tf.nn.dropout(h_fc2, dropout)\n",
    "    # TODO: Layer 5: Fully Connected. Input = 84. Output = 43.\n",
    "    w_fc3 = weight_variable([84, 43])\n",
    "    b_fc3 = bias_variable([43])    \n",
    "    logits = tf.matmul(h_fc2, w_fc3) + b_fc3   \n",
    "    return logits"
   ]
  },
  {
   "cell_type": "markdown",
   "metadata": {},
   "source": [
    "### Train, Validate and Test the Model"
   ]
  },
  {
   "cell_type": "markdown",
   "metadata": {},
   "source": [
    "A validation set can be used to assess how well the model is performing. A low accuracy on the training and validation\n",
    "sets imply underfitting. A high accuracy on the training set but low accuracy on the validation set implies overfitting."
   ]
  },
  {
   "cell_type": "markdown",
   "metadata": {},
   "source": [
    "### Training Pipeline"
   ]
  },
  {
   "cell_type": "code",
   "execution_count": 8,
   "metadata": {
    "collapsed": true
   },
   "outputs": [],
   "source": [
    "### Train your model here.\n",
    "x = tf.placeholder(tf.float32, (None, 32, 32, 3))\n",
    "y = tf.placeholder(tf.int32, (None))\n",
    "one_hot_y = tf.one_hot(y, 43)\n",
    "\n",
    "### Calculate and report the accuracy on the training and validation set.\n",
    "#rate = 0.001\n",
    "#rate = 1e-4\n",
    "global_step = tf.Variable(0, trainable=False)\n",
    "starter_learning_rate = 0.001\n",
    "rate = tf.train.exponential_decay(starter_learning_rate, global_step,\n",
    "                                           100000, 0.96, staircase=True)\n",
    "\n",
    "logits = LeNet(x)\n",
    "cross_entropy = tf.nn.softmax_cross_entropy_with_logits(labels=one_hot_y, logits=logits)\n",
    "loss_operation = tf.reduce_mean(cross_entropy)\n",
    "optimizer = tf.train.AdamOptimizer(learning_rate = rate)\n",
    "#optimizer = tf.train.GradientDescentOptimizer(rate)   # Q4\n",
    "training_operation = optimizer.minimize(loss_operation,global_step=global_step)\n",
    "correct_train = tf.equal(tf.argmax(logits, 1), tf.argmax(one_hot_y, 1))\n",
    "accuracy_train = tf.reduce_mean(tf.cast(correct_train, tf.float32))\n"
   ]
  },
  {
   "cell_type": "markdown",
   "metadata": {},
   "source": [
    "### Model Evaluation"
   ]
  },
  {
   "cell_type": "code",
   "execution_count": 9,
   "metadata": {
    "collapsed": true
   },
   "outputs": [],
   "source": [
    "correct_prediction = tf.equal(tf.argmax(logits, 1), tf.argmax(one_hot_y, 1))\n",
    "accuracy_operation = tf.reduce_mean(tf.cast(correct_prediction, tf.float32))\n",
    "saver = tf.train.Saver()\n",
    "\n",
    "def evaluate(X_data, y_data):\n",
    "    num_examples = len(X_data)\n",
    "    total_accuracy = 0\n",
    "    sess = tf.get_default_session()\n",
    "    for offset in range(0, num_examples, BATCH_SIZE):\n",
    "        batch_x, batch_y = X_data[offset:offset+BATCH_SIZE], y_data[offset:offset+BATCH_SIZE]\n",
    "        accuracy, logit = sess.run([accuracy_operation, logits], feed_dict={x: batch_x, y: batch_y})\n",
    "        total_accuracy += (accuracy * len(batch_x))\n",
    "    return total_accuracy / num_examples, logit"
   ]
  },
  {
   "cell_type": "markdown",
   "metadata": {},
   "source": [
    "### Train the model"
   ]
  },
  {
   "cell_type": "code",
   "execution_count": 10,
   "metadata": {
    "scrolled": true
   },
   "outputs": [
    {
     "name": "stdout",
     "output_type": "stream",
     "text": [
      "Training...\n",
      "\n",
      "EPOCH 1 ...\n",
      "Train Accuracy = 0.580\n",
      "Validation Accuracy = 0.749\n",
      "\n",
      "EPOCH 2 ...\n",
      "Train Accuracy = 0.876\n",
      "Validation Accuracy = 0.828\n",
      "\n",
      "EPOCH 3 ...\n",
      "Train Accuracy = 0.928\n",
      "Validation Accuracy = 0.860\n",
      "\n",
      "EPOCH 4 ...\n",
      "Train Accuracy = 0.948\n",
      "Validation Accuracy = 0.860\n",
      "\n",
      "EPOCH 5 ...\n",
      "Train Accuracy = 0.959\n",
      "Validation Accuracy = 0.878\n",
      "\n",
      "EPOCH 6 ...\n",
      "Train Accuracy = 0.965\n",
      "Validation Accuracy = 0.895\n",
      "\n",
      "EPOCH 7 ...\n",
      "Train Accuracy = 0.971\n",
      "Validation Accuracy = 0.886\n",
      "\n",
      "EPOCH 8 ...\n",
      "Train Accuracy = 0.972\n",
      "Validation Accuracy = 0.888\n",
      "\n",
      "EPOCH 9 ...\n",
      "Train Accuracy = 0.977\n",
      "Validation Accuracy = 0.897\n",
      "\n",
      "EPOCH 10 ...\n",
      "Train Accuracy = 0.976\n",
      "Validation Accuracy = 0.910\n",
      "\n",
      "EPOCH 11 ...\n",
      "Train Accuracy = 0.980\n",
      "Validation Accuracy = 0.894\n",
      "\n",
      "EPOCH 12 ...\n",
      "Train Accuracy = 0.982\n",
      "Validation Accuracy = 0.890\n",
      "\n",
      "EPOCH 13 ...\n",
      "Train Accuracy = 0.981\n",
      "Validation Accuracy = 0.883\n",
      "\n",
      "EPOCH 14 ...\n",
      "Train Accuracy = 0.982\n",
      "Validation Accuracy = 0.915\n",
      "\n",
      "EPOCH 15 ...\n",
      "Train Accuracy = 0.985\n",
      "Validation Accuracy = 0.907\n",
      "\n",
      "EPOCH 16 ...\n",
      "Train Accuracy = 0.985\n",
      "Validation Accuracy = 0.907\n",
      "\n",
      "EPOCH 17 ...\n",
      "Train Accuracy = 0.986\n",
      "Validation Accuracy = 0.905\n",
      "\n",
      "EPOCH 18 ...\n",
      "Train Accuracy = 0.982\n",
      "Validation Accuracy = 0.914\n",
      "\n",
      "EPOCH 19 ...\n",
      "Train Accuracy = 0.986\n",
      "Validation Accuracy = 0.911\n",
      "\n",
      "EPOCH 20 ...\n",
      "Train Accuracy = 0.987\n",
      "Validation Accuracy = 0.908\n",
      "\n",
      "EPOCH 21 ...\n",
      "Train Accuracy = 0.988\n",
      "Validation Accuracy = 0.900\n",
      "\n",
      "EPOCH 22 ...\n",
      "Train Accuracy = 0.989\n",
      "Validation Accuracy = 0.905\n",
      "\n",
      "EPOCH 23 ...\n",
      "Train Accuracy = 0.986\n",
      "Validation Accuracy = 0.922\n",
      "\n",
      "EPOCH 24 ...\n",
      "Train Accuracy = 0.988\n",
      "Validation Accuracy = 0.888\n",
      "\n",
      "EPOCH 25 ...\n",
      "Train Accuracy = 0.988\n",
      "Validation Accuracy = 0.875\n",
      "\n",
      "EPOCH 26 ...\n",
      "Train Accuracy = 0.988\n",
      "Validation Accuracy = 0.923\n",
      "\n",
      "EPOCH 27 ...\n",
      "Train Accuracy = 0.991\n",
      "Validation Accuracy = 0.885\n",
      "\n",
      "EPOCH 28 ...\n",
      "Train Accuracy = 0.990\n",
      "Validation Accuracy = 0.907\n",
      "\n",
      "EPOCH 29 ...\n",
      "Train Accuracy = 0.990\n",
      "Validation Accuracy = 0.923\n",
      "\n",
      "EPOCH 30 ...\n",
      "Train Accuracy = 0.990\n",
      "Validation Accuracy = 0.924\n",
      "\n",
      "EPOCH 31 ...\n",
      "Train Accuracy = 0.991\n",
      "Validation Accuracy = 0.911\n",
      "\n",
      "EPOCH 32 ...\n",
      "Train Accuracy = 0.988\n",
      "Validation Accuracy = 0.914\n",
      "\n",
      "EPOCH 33 ...\n",
      "Train Accuracy = 0.988\n",
      "Validation Accuracy = 0.923\n",
      "\n",
      "EPOCH 34 ...\n",
      "Train Accuracy = 0.992\n",
      "Validation Accuracy = 0.924\n",
      "\n",
      "EPOCH 35 ...\n",
      "Train Accuracy = 0.991\n",
      "Validation Accuracy = 0.921\n",
      "\n",
      "EPOCH 36 ...\n",
      "Train Accuracy = 0.990\n",
      "Validation Accuracy = 0.914\n",
      "\n",
      "EPOCH 37 ...\n",
      "Train Accuracy = 0.996\n",
      "Validation Accuracy = 0.918\n",
      "\n",
      "EPOCH 38 ...\n",
      "Train Accuracy = 0.989\n",
      "Validation Accuracy = 0.920\n",
      "\n",
      "EPOCH 39 ...\n",
      "Train Accuracy = 0.994\n",
      "Validation Accuracy = 0.910\n",
      "\n",
      "EPOCH 40 ...\n",
      "Train Accuracy = 0.988\n",
      "Validation Accuracy = 0.927\n",
      "\n",
      "EPOCH 41 ...\n",
      "Train Accuracy = 0.992\n",
      "Validation Accuracy = 0.910\n",
      "\n",
      "EPOCH 42 ...\n",
      "Train Accuracy = 0.992\n",
      "Validation Accuracy = 0.915\n",
      "\n",
      "EPOCH 43 ...\n",
      "Train Accuracy = 0.992\n",
      "Validation Accuracy = 0.917\n",
      "\n",
      "EPOCH 44 ...\n",
      "Train Accuracy = 0.993\n",
      "Validation Accuracy = 0.911\n",
      "\n",
      "EPOCH 45 ...\n",
      "Train Accuracy = 0.993\n",
      "Validation Accuracy = 0.915\n",
      "\n",
      "EPOCH 46 ...\n",
      "Train Accuracy = 0.994\n",
      "Validation Accuracy = 0.914\n",
      "\n",
      "EPOCH 47 ...\n",
      "Train Accuracy = 0.992\n",
      "Validation Accuracy = 0.915\n",
      "\n",
      "EPOCH 48 ...\n",
      "Train Accuracy = 0.990\n",
      "Validation Accuracy = 0.903\n",
      "\n",
      "EPOCH 49 ...\n",
      "Train Accuracy = 0.992\n",
      "Validation Accuracy = 0.906\n",
      "\n",
      "EPOCH 50 ...\n",
      "Train Accuracy = 0.993\n",
      "Validation Accuracy = 0.905\n",
      "\n",
      "EPOCH 51 ...\n",
      "Train Accuracy = 0.995\n",
      "Validation Accuracy = 0.932\n",
      "\n",
      "EPOCH 52 ...\n",
      "Train Accuracy = 0.988\n",
      "Validation Accuracy = 0.884\n",
      "\n",
      "EPOCH 53 ...\n",
      "Train Accuracy = 0.993\n",
      "Validation Accuracy = 0.931\n",
      "\n",
      "EPOCH 54 ...\n",
      "Train Accuracy = 0.997\n",
      "Validation Accuracy = 0.922\n",
      "\n",
      "EPOCH 55 ...\n",
      "Train Accuracy = 0.989\n",
      "Validation Accuracy = 0.889\n",
      "\n",
      "EPOCH 56 ...\n",
      "Train Accuracy = 0.988\n",
      "Validation Accuracy = 0.923\n",
      "\n",
      "EPOCH 57 ...\n",
      "Train Accuracy = 0.995\n",
      "Validation Accuracy = 0.927\n",
      "\n",
      "EPOCH 58 ...\n",
      "Train Accuracy = 0.993\n",
      "Validation Accuracy = 0.886\n",
      "\n",
      "EPOCH 59 ...\n",
      "Train Accuracy = 0.992\n",
      "Validation Accuracy = 0.927\n",
      "\n",
      "EPOCH 60 ...\n",
      "Train Accuracy = 0.995\n",
      "Validation Accuracy = 0.914\n",
      "\n",
      "EPOCH 61 ...\n",
      "Train Accuracy = 0.993\n",
      "Validation Accuracy = 0.918\n",
      "\n",
      "EPOCH 62 ...\n",
      "Train Accuracy = 0.994\n",
      "Validation Accuracy = 0.915\n",
      "\n",
      "EPOCH 63 ...\n",
      "Train Accuracy = 0.992\n",
      "Validation Accuracy = 0.924\n",
      "\n",
      "EPOCH 64 ...\n",
      "Train Accuracy = 0.993\n",
      "Validation Accuracy = 0.932\n",
      "\n",
      "EPOCH 65 ...\n",
      "Train Accuracy = 0.994\n",
      "Validation Accuracy = 0.923\n",
      "\n",
      "EPOCH 66 ...\n",
      "Train Accuracy = 0.992\n",
      "Validation Accuracy = 0.920\n",
      "\n",
      "EPOCH 67 ...\n",
      "Train Accuracy = 0.995\n",
      "Validation Accuracy = 0.924\n",
      "\n",
      "EPOCH 68 ...\n",
      "Train Accuracy = 0.995\n",
      "Validation Accuracy = 0.923\n",
      "\n",
      "EPOCH 69 ...\n",
      "Train Accuracy = 0.991\n",
      "Validation Accuracy = 0.937\n",
      "\n",
      "Model saved\n"
     ]
    }
   ],
   "source": [
    "with tf.Session() as sess:\n",
    "    sess.run(tf.global_variables_initializer())\n",
    "    num_examples = len(X_train)\n",
    "    \n",
    "    print(\"Training...\")\n",
    "    print()\n",
    "    for i in range(EPOCHS):\n",
    "        X_train, y_train = shuffle(X_train, y_train)\n",
    "        Train_accuracy = 0\n",
    "        for offset in range(0, num_examples, BATCH_SIZE):\n",
    "            end = offset + BATCH_SIZE\n",
    "            batch_x, batch_y = X_train[offset:end], y_train[offset:end]\n",
    "            train_op_ret, train_batch_accuracy = sess.run([training_operation, accuracy_train], feed_dict={x: batch_x, y: batch_y})\n",
    "            Train_accuracy += (train_batch_accuracy * BATCH_SIZE)\n",
    "        #train_batch_accuracy = sess.run(accuracy_train)\n",
    "        Train_accuracy = Train_accuracy / len(X_train)\n",
    "        \n",
    "        validation_accuracy, logit_ret = evaluate(X_valid, y_valid)\n",
    "        print(\"EPOCH {} ...\".format(i+1))\n",
    "        print(\"Train Accuracy = {:.3f}\".format(Train_accuracy))\n",
    "        print(\"Validation Accuracy = {:.3f}\".format(validation_accuracy))\n",
    "        print()\n",
    "        if validation_accuracy > 0.935:\n",
    "            break\n",
    "            #pass\n",
    "        \n",
    "    saver.save(sess, './lenet')\n",
    "    print(\"Model saved\")"
   ]
  },
  {
   "cell_type": "code",
   "execution_count": null,
   "metadata": {
    "collapsed": true
   },
   "outputs": [],
   "source": [
    "with tf.Session() as sess:\n",
    "    saver.restore(sess, tf.train.latest_checkpoint('.'))  # Q2_1: restore 2 times \n",
    "\n",
    "    test_accuracy, logit_ret = evaluate(X_test, y_test)\n",
    "    print(\"Test Accuracy = {:.3f}\".format(test_accuracy))"
   ]
  },
  {
   "cell_type": "markdown",
   "metadata": {},
   "source": [
    "---\n",
    "\n",
    "## Step 3: Test a Model on New Images\n",
    "\n",
    "To give yourself more insight into how your model is working, download at least five pictures of German traffic signs from the web and use your model to predict the traffic sign type.\n",
    "\n",
    "You may find `signnames.csv` useful as it contains mappings from the class id (integer) to the actual sign name."
   ]
  },
  {
   "cell_type": "markdown",
   "metadata": {},
   "source": [
    "### Load and Output the Images"
   ]
  },
  {
   "cell_type": "code",
   "execution_count": 11,
   "metadata": {
    "collapsed": true
   },
   "outputs": [],
   "source": [
    "## Load the images and plot them here.\n",
    "## Feel free to use as many code cells as needed.\n",
    "# from PIL import Image \n",
    "# import shutil  \n",
    "# import os  \n",
    "\n",
    "img_name = ['1', '12', '25', '30', '37']\n",
    "# for img in img_name:\n",
    "#     post_fix = '.png'\n",
    "#     in_path = 'new/' + img + post_fix\n",
    "#     out_path = 'new2/' + img + post_fix\n",
    "        \n",
    "    \n",
    "#     im = Image.open(in_path) \n",
    "#     out = im.resize((32, 32),Image.ANTIALIAS)  \n",
    "#     out.save(out_path) "
   ]
  },
  {
   "cell_type": "markdown",
   "metadata": {},
   "source": [
    "### Predict the Sign Type for Each Image"
   ]
  },
  {
   "cell_type": "code",
   "execution_count": 12,
   "metadata": {},
   "outputs": [
    {
     "name": "stdout",
     "output_type": "stream",
     "text": [
      "This image is: <class 'numpy.ndarray'> with dimensions: (32, 32, 3)\n",
      "This image is: <class 'numpy.ndarray'> with dimensions: (32, 32, 3)\n",
      "This image is: <class 'numpy.ndarray'> with dimensions: (32, 32, 3)\n",
      "This image is: <class 'numpy.ndarray'> with dimensions: (32, 32, 3)\n",
      "This image is: <class 'numpy.ndarray'> with dimensions: (32, 32, 3)\n"
     ]
    },
    {
     "data": {
      "image/png": "[encoded data removed]",
      "text/plain": [
       "<matplotlib.figure.Figure at 0x7fbcf90c0be0>"
      ]
     },
     "metadata": {},
     "output_type": "display_data"
    }
   ],
   "source": [
    "### Run the predictions here and use the model to output the prediction for each image.\n",
    "### Make sure to pre-process the images with the same pre-processing pipeline used earlier.\n",
    "### Feel free to use as many code cells as needed.\n",
    "import matplotlib.pyplot as plt\n",
    "import matplotlib.image as mpimg\n",
    "\n",
    "image_list = []\n",
    "for img in img_name:\n",
    "    post_fix = '.jpg'\n",
    "    image_list.append(mpimg.imread('new2/' + img + post_fix))\n",
    "    \n",
    "for i in range(5):\n",
    "    print('This image is:', type(image_list[i]), 'with dimensions:', image_list[i].shape)\n",
    "    plt.imshow(image_list[4])"
   ]
  },
  {
   "cell_type": "markdown",
   "metadata": {},
   "source": [
    "### Analyze Performance"
   ]
  },
  {
   "cell_type": "code",
   "execution_count": 17,
   "metadata": {},
   "outputs": [
    {
     "name": "stdout",
     "output_type": "stream",
     "text": [
      "INFO:tensorflow:Restoring parameters from ./lenet\n",
      "Test Accuracy = 0.400\n"
     ]
    }
   ],
   "source": [
    "### Calculate the accuracy for these 5 new images. \n",
    "### For example, if the model predicted 1 out of 5 signs correctly, it's 20% accurate on these new images.\n",
    "\n",
    "X_test = image_list\n",
    "y_test = [1, 12, 25, 30, 37]\n",
    "accuracy_test_list  = []\n",
    "with tf.Session() as sess:\n",
    "    saver.restore(sess, tf.train.latest_checkpoint('.'))  # Q2_2\n",
    "    test_accuracy, test_logits = evaluate(X_test, y_test)\n",
    "    print(\"Test Accuracy = {:.3f}\".format(test_accuracy)) \n",
    "    \n",
    "# test集只有5张在网页截取的德国交通标志. 只有2张识别成功,因此0.4的正确率."
   ]
  },
  {
   "cell_type": "markdown",
   "metadata": {},
   "source": [
    "### Output Top 5 Softmax Probabilities For Each Image Found on the Web"
   ]
  },
  {
   "cell_type": "markdown",
   "metadata": {},
   "source": [
    "For each of the new images, print out the model's softmax probabilities to show the **certainty** of the model's predictions (limit the output to the top 5 probabilities for each image). [`tf.nn.top_k`](https://www.tensorflow.org/versions/r0.12/api_docs/python/nn.html#top_k) could prove helpful here. \n",
    "\n",
    "The example below demonstrates how tf.nn.top_k can be used to find the top k predictions for each image.\n",
    "\n",
    "`tf.nn.top_k` will return the values and indices (class ids) of the top k predictions. So if k=3, for each sign, it'll return the 3 largest probabilities (out of a possible 43) and the correspoding class ids.\n",
    "\n",
    "Take this numpy array as an example. The values in the array represent predictions. The array contains softmax probabilities for five candidate images with six possible classes. `tk.nn.top_k` is used to choose the three classes with the highest probability:\n",
    "\n"
   ]
  },
  {
   "cell_type": "code",
   "execution_count": 14,
   "metadata": {
    "scrolled": true
   },
   "outputs": [
    {
     "data": {
      "text/plain": [
       "TopKV2(values=array([[  9.99999285e-01,   7.69014321e-07,   7.04773173e-09,\n",
       "          4.28684732e-09,   9.53005557e-16],\n",
       "       [  1.00000000e+00,   6.92233160e-09,   1.83191086e-27,\n",
       "          1.60221776e-32,   1.38494253e-34],\n",
       "       [  1.00000000e+00,   0.00000000e+00,   0.00000000e+00,\n",
       "          0.00000000e+00,   0.00000000e+00],\n",
       "       [  8.65325153e-01,   1.34186283e-01,   4.82712261e-04,\n",
       "          5.88678040e-06,   7.37123003e-08],\n",
       "       [  1.00000000e+00,   0.00000000e+00,   0.00000000e+00,\n",
       "          0.00000000e+00,   0.00000000e+00]], dtype=float32), indices=array([[ 6,  5, 32,  3,  1],\n",
       "       [14, 12, 10, 15,  2],\n",
       "       [25,  0,  1,  2,  3],\n",
       "       [ 2, 12,  1,  5,  3],\n",
       "       [37,  0,  1,  2,  3]], dtype=int32))"
      ]
     },
     "execution_count": 14,
     "metadata": {},
     "output_type": "execute_result"
    }
   ],
   "source": [
    "### Print out the top five softmax probabilities for the predictions on the German traffic sign images found on the web. \n",
    "### Feel free to use as many code cells as needed.\n",
    "\n",
    "sess = tf.InteractiveSession()\n",
    "test_y = tf.nn.softmax(test_logits)\n",
    "result_y = sess.run(test_y)\n",
    "#print(test_y, result_y)\n",
    "sess.run(tf.nn.top_k(tf.constant(result_y), k=5))  # Q3\n",
    "# ['1', '12', '25', '30', '37']"
   ]
  },
  {
   "cell_type": "markdown",
   "metadata": {},
   "source": [
    "### Project Writeup\n",
    "\n",
    "Once you have completed the code implementation, document your results in a project writeup using this [template](https://github.com/udacity/CarND-Traffic-Sign-Classifier-Project/blob/master/writeup_template.md) as a guide. The writeup can be in a markdown or pdf file. "
   ]
  },
  {
   "cell_type": "markdown",
   "metadata": {},
   "source": [
    "> **Note**: Once you have completed all of the code implementations and successfully answered each question above, you may finalize your work by exporting the iPython Notebook as an HTML document. You can do this by using the menu above and navigating to  \\n\",\n",
    "    \"**File -> Download as -> HTML (.html)**. Include the finished document along with this notebook as your submission."
   ]
  },
  {
   "cell_type": "markdown",
   "metadata": {},
   "source": [
    "---\n",
    "\n",
    "## Step 4 (Optional): Visualize the Neural Network's State with Test Images\n",
    "\n",
    " This Section is not required to complete but acts as an additional excersise for understaning the output of a neural network's weights. While neural networks can be a great learning device they are often referred to as a black box. We can understand what the weights of a neural network look like better by plotting their feature maps. After successfully training your neural network you can see what it's feature maps look like by plotting the output of the network's weight layers in response to a test stimuli image. From these plotted feature maps, it's possible to see what characteristics of an image the network finds interesting. For a sign, maybe the inner network feature maps react with high activation to the sign's boundary outline or to the contrast in the sign's painted symbol.\n",
    "\n",
    " Provided for you below is the function code that allows you to get the visualization output of any tensorflow weight layer you want. The inputs to the function should be a stimuli image, one used during training or a new one you provided, and then the tensorflow variable name that represents the layer's state during the training process, for instance if you wanted to see what the [LeNet lab's](https://classroom.udacity.com/nanodegrees/nd013/parts/fbf77062-5703-404e-b60c-95b78b2f3f9e/modules/6df7ae49-c61c-4bb2-a23e-6527e69209ec/lessons/601ae704-1035-4287-8b11-e2c2716217ad/concepts/d4aca031-508f-4e0b-b493-e7b706120f81) feature maps looked like for it's second convolutional layer you could enter conv2 as the tf_activation variable.\n",
    "\n",
    "For an example of what feature map outputs look like, check out NVIDIA's results in their paper [End-to-End Deep Learning for Self-Driving Cars](https://devblogs.nvidia.com/parallelforall/deep-learning-self-driving-cars/) in the section Visualization of internal CNN State. NVIDIA was able to show that their network's inner weights had high activations to road boundary lines by comparing feature maps from an image with a clear path to one without. Try experimenting with a similar test to show that your trained network's weights are looking for interesting features, whether it's looking at differences in feature maps from images with or without a sign, or even what feature maps look like in a trained network vs a completely untrained one on the same sign image.\n",
    "\n",
    "<figure>\n",
    " <img src=\"visualize_cnn.png\" width=\"380\" alt=\"Combined Image\" />\n",
    " <figcaption>\n",
    " <p></p> \n",
    " <p style=\"text-align: center;\"> Your output should look something like this (above)</p> \n",
    " </figcaption>\n",
    "</figure>\n",
    " <p></p> \n"
   ]
  },
  {
   "cell_type": "code",
   "execution_count": 15,
   "metadata": {
    "collapsed": true
   },
   "outputs": [],
   "source": [
    "### Visualize your network's feature maps here.\n",
    "### Feel free to use as many code cells as needed.\n",
    "\n",
    "# image_input: the test image being fed into the network to produce the feature maps\n",
    "# tf_activation: should be a tf variable name used during your training procedure that represents the calculated state of a specific weight layer\n",
    "# activation_min/max: can be used to view the activation contrast in more detail, by default matplot sets min and max to the actual min and max values of the output\n",
    "# plt_num: used to plot out multiple different weight feature map sets on the same block, just extend the plt number for each new feature map entry\n",
    "\n",
    "def outputFeatureMap(image_input, tf_activation, activation_min=-1, activation_max=-1 ,plt_num=1):\n",
    "    # Here make sure to preprocess your image_input in a way your network expects\n",
    "    # with size, normalization, ect if needed\n",
    "    # image_input =\n",
    "    # Note: x should be the same name as your network's tensorflow data placeholder variable\n",
    "    # If you get an error tf_activation is not defined it may be having trouble accessing the variable from inside a function\n",
    "    activation = tf_activation.eval(session=sess,feed_dict={x : image_input})\n",
    "    featuremaps = activation.shape[3]\n",
    "    plt.figure(plt_num, figsize=(15,15))\n",
    "    for featuremap in range(featuremaps):\n",
    "        plt.subplot(6,8, featuremap+1) # sets the number of feature maps to show on each row and column\n",
    "        plt.title('FeatureMap ' + str(featuremap)) # displays the feature map number\n",
    "        if activation_min != -1 & activation_max != -1:\n",
    "            plt.imshow(activation[0,:,:, featuremap], interpolation=\"nearest\", vmin =activation_min, vmax=activation_max, cmap=\"gray\")\n",
    "        elif activation_max != -1:\n",
    "            plt.imshow(activation[0,:,:, featuremap], interpolation=\"nearest\", vmax=activation_max, cmap=\"gray\")\n",
    "        elif activation_min !=-1:\n",
    "            plt.imshow(activation[0,:,:, featuremap], interpolation=\"nearest\", vmin=activation_min, cmap=\"gray\")\n",
    "        else:\n",
    "            plt.imshow(activation[0,:,:, featuremap], interpolation=\"nearest\", cmap=\"gray\")"
   ]
  },
  {
   "cell_type": "code",
   "execution_count": null,
   "metadata": {
    "collapsed": true
   },
   "outputs": [],
   "source": []
  }
 ],
 "metadata": {
  "anaconda-cloud": {},
  "kernelspec": {
   "display_name": "Python 3",
   "language": "python",
   "name": "python3"
  },
  "language_info": {
   "codemirror_mode": {
    "name": "ipython",
    "version": 3
   },
   "file_extension": ".py",
   "mimetype": "text/x-python",
   "name": "python",
   "nbconvert_exporter": "python",
   "pygments_lexer": "ipython3",
   "version": "3.5.3"
  }
 },
 "nbformat": 4,
 "nbformat_minor": 1
}
